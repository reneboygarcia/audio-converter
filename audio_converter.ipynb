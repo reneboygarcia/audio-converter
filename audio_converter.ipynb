{
 "cells": [
  {
   "cell_type": "code",
   "execution_count": 21,
   "metadata": {},
   "outputs": [
    {
     "name": "stdout",
     "output_type": "stream",
     "text": [
      "Setup Complete\n"
     ]
    }
   ],
   "source": [
    "from pydub import AudioSegment\n",
    "import tempfile\n",
    "import os\n",
    "\n",
    "print(\"Setup Complete\")"
   ]
  },
  {
   "cell_type": "code",
   "execution_count": 25,
   "metadata": {},
   "outputs": [
    {
     "name": "stdout",
     "output_type": "stream",
     "text": [
      "Loading audio file...\n",
      "Original file size: 17.35 MB\n",
      "Converting and compressing to MP4 format for Iphone with a bit rate of 128k...\n",
      "Conversion successful: data/sample_audio.mp4\n",
      "Output file size: 4.87 MB\n",
      "File savings: 12.48 MB (71.92%)\n"
     ]
    }
   ],
   "source": [
    "def convert_and_compress(\n",
    "    input_file: str, device_type: str, bit_rate: str = \"128k\", quality: str = \"high\"\n",
    ") -> str:\n",
    "    \"\"\"\n",
    "    Convert and compress an audio file to a specified format based on device type.\n",
    "\n",
    "    Parameters:\n",
    "    - input_file (str): Path to the input audio file.\n",
    "    - device_type (str): Type of device for which the audio is being converted.\n",
    "    - bit_rate (str): Bit rate for the output audio file (default is \"128k\").\n",
    "    - quality (str): Quality level for the conversion (default is \"high\").\n",
    "\n",
    "    Returns:\n",
    "    - str: Path to the output audio file if successful, None otherwise.\n",
    "    \"\"\"\n",
    "\n",
    "    # Verify the input file exists\n",
    "    if not os.path.isfile(input_file):\n",
    "        print(f\"Error: The file '{input_file}' was not found.\")\n",
    "        return None\n",
    "\n",
    "    # Load the audio file\n",
    "    print(\"Loading audio file...\")\n",
    "    try:\n",
    "        audio = AudioSegment.from_file(input_file)\n",
    "    except Exception as e:\n",
    "        print(f\"Error loading audio file: {e}\")\n",
    "        return None\n",
    "\n",
    "    # Get original file size\n",
    "    original_size = os.path.getsize(input_file)\n",
    "    print(f\"Original file size: {original_size / (1024 * 1024):.2f} MB\")\n",
    "\n",
    "    # Define output format and codec settings based on device type\n",
    "    device_settings = {\n",
    "        \"iphone\": {\"output_format\": \"mp4\", \"codec\": \"aac\"},\n",
    "        \"android\": {\"output_format\": \"ogg\", \"codec\": \"libvorbis\"},\n",
    "        \"mp3\": {\"output_format\": \"mp3\", \"codec\": \"libmp3lame\"},\n",
    "        \"flac\": {\"output_format\": \"flac\", \"codec\": \"flac\"},\n",
    "        \"wav\": {\"output_format\": \"wav\", \"codec\": \"pcm_s16le\"},\n",
    "        \"aiff\": {\"output_format\": \"aiff\", \"codec\": \"pcm_s16be\"},\n",
    "    }\n",
    "\n",
    "    # Check if the provided device type is supported\n",
    "    if device_type not in device_settings:\n",
    "        print(\"Unsupported device type\")\n",
    "        return None\n",
    "\n",
    "    # Retrieve output format and codec for the specified device type\n",
    "    output_format = device_settings[device_type][\"output_format\"]\n",
    "    codec = device_settings[device_type][\"codec\"]\n",
    "\n",
    "    # Set output file path by changing the extension to the desired format\n",
    "    base, _ = os.path.splitext(input_file)\n",
    "    output_file = f\"{base}.{output_format}\"\n",
    "\n",
    "    # Export audio with specified settings\n",
    "    print(\n",
    "        f\"Converting and compressing to {output_format.upper()} format for {device_type.title()} with a bit rate of {bit_rate}...\"\n",
    "    )\n",
    "    try:\n",
    "        # Specify codec directly in export\n",
    "        audio.export(output_file, format=output_format, codec=codec, bitrate=bit_rate)\n",
    "\n",
    "        # Get the size of the output file\n",
    "        output_size = os.path.getsize(output_file)\n",
    "        print(f\"Conversion successful: {output_file}\")\n",
    "        print(f\"Output file size: {output_size / (1024 * 1024):.2f} MB\")\n",
    "\n",
    "        # Calculate and display file savings\n",
    "        savings = original_size - output_size\n",
    "        savings_percentage = (savings / original_size * 100) if original_size > 0 else 0\n",
    "        print(\n",
    "            f\"File savings: {savings / (1024 * 1024):.2f} MB ({savings_percentage:.2f}%)\"\n",
    "        )\n",
    "\n",
    "        return output_file\n",
    "    except Exception as e:\n",
    "        print(f\"An error occurred during conversion: {e}\")\n",
    "        return None\n",
    "\n",
    "\n",
    "if __name__ == \"__main__\":\n",
    "    # Define input parameters for the conversion\n",
    "    input_wav_file = (\n",
    "        \"data/sample_audio.wav\"  # Replace with the path to your input WAV file\n",
    "    )\n",
    "    device_type = \"iphone\"  # Change to desired device type\n",
    "    bit_rate = \"128k\"  # Adjust bit rate if needed\n",
    "    quality = \"high\"  # Set quality level: \"high\", \"medium\", or \"low\"\n",
    "\n",
    "    # Run conversion\n",
    "    convert_and_compress(input_wav_file, device_type, bit_rate, quality)"
   ]
  }
 ],
 "metadata": {
  "kernelspec": {
   "display_name": ".venv",
   "language": "python",
   "name": "python3"
  },
  "language_info": {
   "codemirror_mode": {
    "name": "ipython",
    "version": 3
   },
   "file_extension": ".py",
   "mimetype": "text/x-python",
   "name": "python",
   "nbconvert_exporter": "python",
   "pygments_lexer": "ipython3",
   "version": "3.12.7"
  }
 },
 "nbformat": 4,
 "nbformat_minor": 2
}
